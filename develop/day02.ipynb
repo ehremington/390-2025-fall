{
 "cells": [
  {
   "cell_type": "markdown",
   "id": "af01772b-fd43-4b0b-b24f-8988dd5647ab",
   "metadata": {},
   "source": [
    "# day 02 | 250829 F | week 0\n",
    "\n",
    "## heretofore\n",
    "We have learned about variable and putting them in place of values, but we have not used any variables up to now. We have also seen how we can set values in jupyter, but is there a way to get feedback from a user of a program?\n",
    "\n",
    "## herein\n",
    "Today we are going to learn about what kinds of quantities variables can hold, and we are going to use input and output functions to control the information that we get from a user.\n",
    "\n",
    "## hence\n",
    "I want you to do Excersise 2.1 on page 30, which is a slight modification on the code we wrote here. Also have a look at Excersise 2.2. You don't have to do part (a) but take it at face value. Try to do part (b) and we'll look at this on Wednesday.\n",
    "\n",
    "What is next is to talk about if/while statements, as well as introduce lists and arrays. We should be able to get to fo"
   ]
  },
  {
   "cell_type": "code",
   "execution_count": 3,
   "id": "748a40bf-abf1-4cd9-8fb4-3f77749bd39f",
   "metadata": {},
   "outputs": [],
   "source": [
    "import numpy as np\n",
    "import matplotlib.pyplot as plt\n",
    "import pandas as pd\n",
    "import math"
   ]
  },
  {
   "cell_type": "code",
   "execution_count": 4,
   "id": "c0bd73ab-bd8a-4b08-9e8f-48e9d587a801",
   "metadata": {},
   "outputs": [
    {
     "data": {
      "text/plain": [
       "18.84955592153876"
      ]
     },
     "execution_count": 4,
     "metadata": {},
     "output_type": "execute_result"
    }
   ],
   "source": [
    "6*np.pi"
   ]
  },
  {
   "cell_type": "code",
   "execution_count": 5,
   "id": "384b3e03-78c6-4bcb-ad98-7c24b6fb6032",
   "metadata": {},
   "outputs": [
    {
     "data": {
      "text/plain": [
       "3.141592653589793"
      ]
     },
     "execution_count": 5,
     "metadata": {},
     "output_type": "execute_result"
    }
   ],
   "source": [
    "np.pi"
   ]
  },
  {
   "cell_type": "code",
   "execution_count": 6,
   "id": "9b8bbdac-2643-42e9-8d30-ab0b417dbe5e",
   "metadata": {},
   "outputs": [],
   "source": [
    "x = 5"
   ]
  },
  {
   "cell_type": "code",
   "execution_count": 7,
   "id": "f086f0ba-77cc-4408-aff0-4c49d26b4e8a",
   "metadata": {},
   "outputs": [
    {
     "data": {
      "text/plain": [
       "5"
      ]
     },
     "execution_count": 7,
     "metadata": {},
     "output_type": "execute_result"
    }
   ],
   "source": [
    "x"
   ]
  },
  {
   "cell_type": "code",
   "execution_count": 8,
   "id": "3c5f379d-ab8c-4460-a08a-dbb81b196b37",
   "metadata": {},
   "outputs": [
    {
     "ename": "NameError",
     "evalue": "name 'y' is not defined",
     "output_type": "error",
     "traceback": [
      "\u001b[0;31m---------------------------------------------------------------------------\u001b[0m",
      "\u001b[0;31mNameError\u001b[0m                                 Traceback (most recent call last)",
      "Cell \u001b[0;32mIn[8], line 1\u001b[0m\n\u001b[0;32m----> 1\u001b[0m y \u001b[38;5;241m+\u001b[39m \u001b[38;5;241m1\u001b[39m\n",
      "\u001b[0;31mNameError\u001b[0m: name 'y' is not defined"
     ]
    }
   ],
   "source": [
    "y + 1"
   ]
  },
  {
   "cell_type": "code",
   "execution_count": 9,
   "id": "16dc9c2d-af62-4bf4-a2e6-e0db767314a0",
   "metadata": {},
   "outputs": [
    {
     "data": {
      "text/plain": [
       "int"
      ]
     },
     "execution_count": 9,
     "metadata": {},
     "output_type": "execute_result"
    }
   ],
   "source": [
    "type(x)"
   ]
  },
  {
   "cell_type": "code",
   "execution_count": 10,
   "id": "e7c21969-a266-4d4c-b37a-ba6cd01ae11d",
   "metadata": {},
   "outputs": [],
   "source": [
    "y = 5.0"
   ]
  },
  {
   "cell_type": "code",
   "execution_count": 11,
   "id": "ff1cab18-bf6f-4dc8-afa2-23839c57ccb0",
   "metadata": {},
   "outputs": [
    {
     "data": {
      "text/plain": [
       "float"
      ]
     },
     "execution_count": 11,
     "metadata": {},
     "output_type": "execute_result"
    }
   ],
   "source": [
    "type(y)"
   ]
  },
  {
   "cell_type": "code",
   "execution_count": 15,
   "id": "33f6aa04-bb8a-4e02-96bb-6d8091baf3c8",
   "metadata": {},
   "outputs": [],
   "source": [
    "z = 3+2j"
   ]
  },
  {
   "cell_type": "code",
   "execution_count": 16,
   "id": "66b472a2-fc93-4361-8d27-27ac51a1165a",
   "metadata": {},
   "outputs": [
    {
     "data": {
      "text/plain": [
       "complex"
      ]
     },
     "execution_count": 16,
     "metadata": {},
     "output_type": "execute_result"
    }
   ],
   "source": [
    "type(z)"
   ]
  },
  {
   "cell_type": "code",
   "execution_count": 17,
   "id": "eeef5f32-5794-490f-98ef-5c57ec4f4ab2",
   "metadata": {},
   "outputs": [],
   "source": [
    "a = 0j"
   ]
  },
  {
   "cell_type": "code",
   "execution_count": 18,
   "id": "cd5b3da3-8458-4136-8e4e-1d39e2b5a84b",
   "metadata": {},
   "outputs": [
    {
     "data": {
      "text/plain": [
       "complex"
      ]
     },
     "execution_count": 18,
     "metadata": {},
     "output_type": "execute_result"
    }
   ],
   "source": [
    "type(a)"
   ]
  },
  {
   "cell_type": "code",
   "execution_count": 19,
   "id": "2fa5bc8e-aa15-47a2-a035-8146f968c2ed",
   "metadata": {},
   "outputs": [],
   "source": [
    "b = a+1"
   ]
  },
  {
   "cell_type": "code",
   "execution_count": 20,
   "id": "58808819-4248-4e85-8622-ec4fe44bc5ce",
   "metadata": {},
   "outputs": [
    {
     "data": {
      "text/plain": [
       "(1+0j)"
      ]
     },
     "execution_count": 20,
     "metadata": {},
     "output_type": "execute_result"
    }
   ],
   "source": [
    "b"
   ]
  },
  {
   "cell_type": "code",
   "execution_count": 21,
   "id": "e7dbaf6b-8a47-4253-93cb-752ac41c9c01",
   "metadata": {},
   "outputs": [],
   "source": [
    "c = \"Joe\""
   ]
  },
  {
   "cell_type": "code",
   "execution_count": 22,
   "id": "8ebe601b-a45b-4af1-8070-8f02ba7b84c3",
   "metadata": {},
   "outputs": [
    {
     "data": {
      "text/plain": [
       "str"
      ]
     },
     "execution_count": 22,
     "metadata": {},
     "output_type": "execute_result"
    }
   ],
   "source": [
    "type(c)"
   ]
  },
  {
   "cell_type": "code",
   "execution_count": 23,
   "id": "fe0b7c60-cf10-4d41-81e6-01ed333c1862",
   "metadata": {},
   "outputs": [],
   "source": [
    "d = '546'"
   ]
  },
  {
   "cell_type": "code",
   "execution_count": 24,
   "id": "f00098df-4c73-46ed-ad33-5282cb926583",
   "metadata": {},
   "outputs": [
    {
     "data": {
      "text/plain": [
       "'546'"
      ]
     },
     "execution_count": 24,
     "metadata": {},
     "output_type": "execute_result"
    }
   ],
   "source": [
    "d"
   ]
  },
  {
   "cell_type": "code",
   "execution_count": 25,
   "id": "87e8cb2d-3afb-4375-bba0-1b97b9d1babc",
   "metadata": {},
   "outputs": [
    {
     "ename": "TypeError",
     "evalue": "can only concatenate str (not \"int\") to str",
     "output_type": "error",
     "traceback": [
      "\u001b[0;31m---------------------------------------------------------------------------\u001b[0m",
      "\u001b[0;31mTypeError\u001b[0m                                 Traceback (most recent call last)",
      "Cell \u001b[0;32mIn[25], line 1\u001b[0m\n\u001b[0;32m----> 1\u001b[0m d\u001b[38;5;241m+\u001b[39m\u001b[38;5;241m1\u001b[39m\n",
      "\u001b[0;31mTypeError\u001b[0m: can only concatenate str (not \"int\") to str"
     ]
    }
   ],
   "source": [
    "d+1"
   ]
  },
  {
   "cell_type": "code",
   "execution_count": 30,
   "id": "58502fbd-6ec1-4e78-b8f0-3fd9d8ac7108",
   "metadata": {},
   "outputs": [],
   "source": [
    "xy = 60"
   ]
  },
  {
   "cell_type": "code",
   "execution_count": 31,
   "id": "7fe3554a-b3d0-448f-8af0-30a62057e5b4",
   "metadata": {},
   "outputs": [
    {
     "data": {
      "text/plain": [
       "60"
      ]
     },
     "execution_count": 31,
     "metadata": {},
     "output_type": "execute_result"
    }
   ],
   "source": [
    "xy"
   ]
  },
  {
   "cell_type": "code",
   "execution_count": 32,
   "id": "cd364e7a-e725-4d3c-93fd-41d28182f6be",
   "metadata": {},
   "outputs": [],
   "source": [
    "test = 34"
   ]
  },
  {
   "cell_type": "code",
   "execution_count": 33,
   "id": "bc7e0c39-c818-45fe-8a89-c0c43b646dea",
   "metadata": {},
   "outputs": [],
   "source": [
    "test1 = 37"
   ]
  },
  {
   "cell_type": "code",
   "execution_count": 34,
   "id": "5adbffe8-1769-4043-8142-a1eba67ed652",
   "metadata": {},
   "outputs": [
    {
     "data": {
      "text/plain": [
       "34"
      ]
     },
     "execution_count": 34,
     "metadata": {},
     "output_type": "execute_result"
    }
   ],
   "source": [
    "test"
   ]
  },
  {
   "cell_type": "code",
   "execution_count": 35,
   "id": "cb680f06-30f1-47fb-b75d-2842049b7bf5",
   "metadata": {},
   "outputs": [
    {
     "data": {
      "text/plain": [
       "37"
      ]
     },
     "execution_count": 35,
     "metadata": {},
     "output_type": "execute_result"
    }
   ],
   "source": [
    "test1"
   ]
  },
  {
   "cell_type": "code",
   "execution_count": 37,
   "id": "0a665a1c-0c97-4d0d-b619-8a3b5d13f541",
   "metadata": {},
   "outputs": [],
   "source": [
    "_4test = 4"
   ]
  },
  {
   "cell_type": "code",
   "execution_count": 38,
   "id": "46d13b0b-a260-4588-b1ec-25f51c07069a",
   "metadata": {},
   "outputs": [
    {
     "data": {
      "text/plain": [
       "4"
      ]
     },
     "execution_count": 38,
     "metadata": {},
     "output_type": "execute_result"
    }
   ],
   "source": [
    "_4test"
   ]
  },
  {
   "cell_type": "code",
   "execution_count": 42,
   "id": "0bca65d5-f141-440b-9502-2fa90b7747d6",
   "metadata": {},
   "outputs": [
    {
     "name": "stdin",
     "output_type": "stream",
     "text": [
      "Enter the height of the tower:  10\n",
      "Enter the time interval:  10\n"
     ]
    },
    {
     "name": "stdout",
     "output_type": "stream",
     "text": [
      "The height of the rock is  -480.5 meters\n"
     ]
    }
   ],
   "source": [
    "h = float(input(\"Enter the height of the tower: \"))\n",
    "t = float(input(\"Enter the time interval: \"))\n",
    "g = 9.81\n",
    "\n",
    "y = h - 1/2*g*t**2\n",
    "print('The height of the rock is ', y, 'meters')"
   ]
  },
  {
   "cell_type": "code",
   "execution_count": null,
   "id": "52765ee2-9819-42a2-b329-cb6d276f4366",
   "metadata": {},
   "outputs": [],
   "source": []
  }
 ],
 "metadata": {
  "kernelspec": {
   "display_name": "Python 3 (ipykernel)",
   "language": "python",
   "name": "python3"
  },
  "language_info": {
   "codemirror_mode": {
    "name": "ipython",
    "version": 3
   },
   "file_extension": ".py",
   "mimetype": "text/x-python",
   "name": "python",
   "nbconvert_exporter": "python",
   "pygments_lexer": "ipython3",
   "version": "3.12.2"
  }
 },
 "nbformat": 4,
 "nbformat_minor": 5
}
