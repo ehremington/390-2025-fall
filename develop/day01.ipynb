{
 "cells": [
  {
   "cell_type": "markdown",
   "id": "6502659a-beae-4ff1-b597-231629785691",
   "metadata": {},
   "source": [
    "# 250827 - day 01\n",
    "\n",
    "## this is the stuff i'm doing today\n",
    "If i just want text here then this is all i have to do. \n",
    "\n",
    "## this is the stuff i'm going to do tomorrow.\n",
    "Here is that stuff"
   ]
  },
  {
   "cell_type": "markdown",
   "id": "33a199f8-3364-474a-9080-a572bc089f5e",
   "metadata": {},
   "source": [
    "markdowny stuff goes in here"
   ]
  },
  {
   "cell_type": "code",
   "execution_count": 1,
   "id": "31aff839-f077-44a1-866e-062080a4fb44",
   "metadata": {},
   "outputs": [
    {
     "name": "stdout",
     "output_type": "stream",
     "text": [
      "12\n"
     ]
    }
   ],
   "source": [
    "x = 5\n",
    "y = 7\n",
    "\n",
    "print(x+y)"
   ]
  },
  {
   "cell_type": "markdown",
   "id": "bb3a9ff0-b722-4eb9-832f-02ee995f339a",
   "metadata": {},
   "source": [
    "ah that is interesting i'm doing to have to remember that"
   ]
  },
  {
   "cell_type": "code",
   "execution_count": 2,
   "id": "8909269b-23cc-4b3a-be35-0ba0e08465cb",
   "metadata": {},
   "outputs": [],
   "source": [
    "x = 10"
   ]
  },
  {
   "cell_type": "markdown",
   "id": "60073d82-5dad-4a23-981e-80953beedf2d",
   "metadata": {},
   "source": [
    "testing some more\n",
    "\n",
    "testing even more now..."
   ]
  },
  {
   "cell_type": "code",
   "execution_count": null,
   "id": "0a14728c-d750-4495-aa65-95ab0d59c663",
   "metadata": {},
   "outputs": [],
   "source": []
  }
 ],
 "metadata": {
  "kernelspec": {
   "display_name": "Python 3 (ipykernel)",
   "language": "python",
   "name": "python3"
  },
  "language_info": {
   "codemirror_mode": {
    "name": "ipython",
    "version": 3
   },
   "file_extension": ".py",
   "mimetype": "text/x-python",
   "name": "python",
   "nbconvert_exporter": "python",
   "pygments_lexer": "ipython3",
   "version": "3.12.2"
  }
 },
 "nbformat": 4,
 "nbformat_minor": 5
}
