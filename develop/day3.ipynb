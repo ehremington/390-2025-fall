{
 "cells": [
  {
   "cell_type": "markdown",
   "id": "b40a1193-78e3-4dfc-9a05-ac3d36b465da",
   "metadata": {},
   "source": [
    "# day 3 | 250903\n",
    "\n"
   ]
  },
  {
   "cell_type": "code",
   "execution_count": 2,
   "id": "a12a23b0-cd7d-4cea-9b78-8135fba74db6",
   "metadata": {},
   "outputs": [],
   "source": [
    "import numpy as np\n",
    "import pandas as pd"
   ]
  },
  {
   "cell_type": "markdown",
   "id": "025b8298-525d-4352-9ba5-f045495d6ab2",
   "metadata": {},
   "source": [
    "## strings"
   ]
  },
  {
   "cell_type": "code",
   "execution_count": 3,
   "id": "49bf1858-9800-4bcc-aa33-c01855230eba",
   "metadata": {},
   "outputs": [],
   "source": [
    "x = 'JD did his homework.'"
   ]
  },
  {
   "cell_type": "code",
   "execution_count": 4,
   "id": "deb21795-9009-4a9c-a9df-a459da4d8ef4",
   "metadata": {},
   "outputs": [
    {
     "data": {
      "text/plain": [
       "'JD did his homework.'"
      ]
     },
     "execution_count": 4,
     "metadata": {},
     "output_type": "execute_result"
    }
   ],
   "source": [
    "x"
   ]
  },
  {
   "cell_type": "code",
   "execution_count": 19,
   "id": "ec868229-e3a7-4548-81a9-4c076ac7cf66",
   "metadata": {},
   "outputs": [
    {
     "data": {
      "text/plain": [
       "'ork'"
      ]
     },
     "execution_count": 19,
     "metadata": {},
     "output_type": "execute_result"
    }
   ],
   "source": [
    "x[-4:-1]"
   ]
  },
  {
   "cell_type": "markdown",
   "id": "cdbcc769-c5b9-4d68-9d96-94fbfc0d1336",
   "metadata": {},
   "source": [
    "## lists"
   ]
  },
  {
   "cell_type": "code",
   "execution_count": 20,
   "id": "dc64d5a3-6895-47c0-9cd2-e0e939d65b4b",
   "metadata": {},
   "outputs": [],
   "source": [
    "y = [4, 5, 6.0, 'dog', 5+1j]"
   ]
  },
  {
   "cell_type": "code",
   "execution_count": 21,
   "id": "1f51ab11-1466-45ca-8cef-d67ecdccf5ab",
   "metadata": {},
   "outputs": [
    {
     "data": {
      "text/plain": [
       "[4, 5, 6.0, 'dog', (5+1j)]"
      ]
     },
     "execution_count": 21,
     "metadata": {},
     "output_type": "execute_result"
    }
   ],
   "source": [
    "y"
   ]
  },
  {
   "cell_type": "code",
   "execution_count": 28,
   "id": "3c187985-ca42-4d53-a0ab-da7f6d07c8f6",
   "metadata": {},
   "outputs": [
    {
     "data": {
      "text/plain": [
       "6.0"
      ]
     },
     "execution_count": 28,
     "metadata": {},
     "output_type": "execute_result"
    }
   ],
   "source": [
    "y[2]"
   ]
  },
  {
   "cell_type": "code",
   "execution_count": 27,
   "id": "fad77b6a-fc79-4435-9963-ff55199c0ea0",
   "metadata": {},
   "outputs": [
    {
     "data": {
      "text/plain": [
       "[6.0]"
      ]
     },
     "execution_count": 27,
     "metadata": {},
     "output_type": "execute_result"
    }
   ],
   "source": [
    "y[2:3]"
   ]
  },
  {
   "cell_type": "code",
   "execution_count": 29,
   "id": "c721edcb-de3d-4a19-add2-3cef495935d6",
   "metadata": {},
   "outputs": [
    {
     "data": {
      "text/plain": [
       "[4, 5, 6.0, 'dog', (5+1j)]"
      ]
     },
     "execution_count": 29,
     "metadata": {},
     "output_type": "execute_result"
    }
   ],
   "source": [
    "y"
   ]
  },
  {
   "cell_type": "code",
   "execution_count": 30,
   "id": "e811ddae-eb2e-48c1-aba7-b3b443221998",
   "metadata": {},
   "outputs": [
    {
     "data": {
      "text/plain": [
       "'dog'"
      ]
     },
     "execution_count": 30,
     "metadata": {},
     "output_type": "execute_result"
    }
   ],
   "source": [
    "y.pop(3)"
   ]
  },
  {
   "cell_type": "code",
   "execution_count": 31,
   "id": "511bff0a-ea49-4a5f-9b66-cd4ab2d60cf8",
   "metadata": {},
   "outputs": [
    {
     "data": {
      "text/plain": [
       "[4, 5, 6.0, (5+1j)]"
      ]
     },
     "execution_count": 31,
     "metadata": {},
     "output_type": "execute_result"
    }
   ],
   "source": [
    "y"
   ]
  },
  {
   "cell_type": "code",
   "execution_count": 32,
   "id": "8a003a08-0254-4f3b-b080-0a0abc46dfb2",
   "metadata": {},
   "outputs": [],
   "source": [
    "z = [3.4, 5, 12.1, 15]"
   ]
  },
  {
   "cell_type": "code",
   "execution_count": 33,
   "id": "a62d1d6f-5c58-42b4-b9f9-da85f89239be",
   "metadata": {},
   "outputs": [],
   "source": [
    "a = y + z"
   ]
  },
  {
   "cell_type": "code",
   "execution_count": 34,
   "id": "11189812-230c-451e-af48-4a42cef1a5d5",
   "metadata": {},
   "outputs": [
    {
     "data": {
      "text/plain": [
       "[4, 5, 6.0, (5+1j), 3.4, 5, 12.1, 15]"
      ]
     },
     "execution_count": 34,
     "metadata": {},
     "output_type": "execute_result"
    }
   ],
   "source": [
    "a"
   ]
  },
  {
   "cell_type": "code",
   "execution_count": 35,
   "id": "3bf70ed4-91ee-4e10-8311-28c71fa28315",
   "metadata": {},
   "outputs": [
    {
     "ename": "TypeError",
     "evalue": "can't multiply sequence by non-int of type 'list'",
     "output_type": "error",
     "traceback": [
      "\u001b[0;31m---------------------------------------------------------------------------\u001b[0m",
      "\u001b[0;31mTypeError\u001b[0m                                 Traceback (most recent call last)",
      "Cell \u001b[0;32mIn[35], line 1\u001b[0m\n\u001b[0;32m----> 1\u001b[0m b \u001b[38;5;241m=\u001b[39m y\u001b[38;5;241m*\u001b[39mz\n",
      "\u001b[0;31mTypeError\u001b[0m: can't multiply sequence by non-int of type 'list'"
     ]
    }
   ],
   "source": [
    "b = y*z"
   ]
  },
  {
   "cell_type": "code",
   "execution_count": 36,
   "id": "63363895-bc2f-4e77-9466-b34a740a25ac",
   "metadata": {},
   "outputs": [
    {
     "ename": "TypeError",
     "evalue": "unsupported operand type(s) for -: 'list' and 'int'",
     "output_type": "error",
     "traceback": [
      "\u001b[0;31m---------------------------------------------------------------------------\u001b[0m",
      "\u001b[0;31mTypeError\u001b[0m                                 Traceback (most recent call last)",
      "Cell \u001b[0;32mIn[36], line 1\u001b[0m\n\u001b[0;32m----> 1\u001b[0m a \u001b[38;5;241m-\u001b[39m \u001b[38;5;241m1\u001b[39m\n",
      "\u001b[0;31mTypeError\u001b[0m: unsupported operand type(s) for -: 'list' and 'int'"
     ]
    }
   ],
   "source": [
    "a - 1"
   ]
  },
  {
   "cell_type": "code",
   "execution_count": 37,
   "id": "649b831a-2b76-45d9-8a6a-cc9294dba4fa",
   "metadata": {},
   "outputs": [],
   "source": [
    "c = np.array([1, 2, 5.0, 6.33333, 12])"
   ]
  },
  {
   "cell_type": "code",
   "execution_count": 38,
   "id": "1466a0fd-0826-415e-9a8d-714ae3117310",
   "metadata": {},
   "outputs": [
    {
     "data": {
      "text/plain": [
       "array([ 1.     ,  2.     ,  5.     ,  6.33333, 12.     ])"
      ]
     },
     "execution_count": 38,
     "metadata": {},
     "output_type": "execute_result"
    }
   ],
   "source": [
    "c"
   ]
  },
  {
   "cell_type": "code",
   "execution_count": 42,
   "id": "c0ccda9d-a1bc-4324-9231-8a7aa704b3ad",
   "metadata": {},
   "outputs": [
    {
     "data": {
      "text/plain": [
       "dtype('float64')"
      ]
     },
     "execution_count": 42,
     "metadata": {},
     "output_type": "execute_result"
    }
   ],
   "source": [
    "c.dtype"
   ]
  },
  {
   "cell_type": "code",
   "execution_count": 43,
   "id": "2fd0b1d4-827c-4233-97a3-4d3eb7507334",
   "metadata": {},
   "outputs": [
    {
     "data": {
      "text/plain": [
       "1.0"
      ]
     },
     "execution_count": 43,
     "metadata": {},
     "output_type": "execute_result"
    }
   ],
   "source": [
    "c[0]"
   ]
  },
  {
   "cell_type": "code",
   "execution_count": 45,
   "id": "8fb73478-d03c-4b68-8c6f-7a5686bcf37b",
   "metadata": {},
   "outputs": [
    {
     "data": {
      "text/plain": [
       "array([5.     , 6.33333])"
      ]
     },
     "execution_count": 45,
     "metadata": {},
     "output_type": "execute_result"
    }
   ],
   "source": [
    "c[2:4]"
   ]
  },
  {
   "cell_type": "code",
   "execution_count": 46,
   "id": "70ae398a-cbf2-4ddb-b377-bf1fe27408d7",
   "metadata": {},
   "outputs": [
    {
     "ename": "TypeError",
     "evalue": "can only concatenate list (not \"int\") to list",
     "output_type": "error",
     "traceback": [
      "\u001b[0;31m---------------------------------------------------------------------------\u001b[0m",
      "\u001b[0;31mTypeError\u001b[0m                                 Traceback (most recent call last)",
      "Cell \u001b[0;32mIn[46], line 1\u001b[0m\n\u001b[0;32m----> 1\u001b[0m y\u001b[38;5;241m+\u001b[39m\u001b[38;5;241m1\u001b[39m\n",
      "\u001b[0;31mTypeError\u001b[0m: can only concatenate list (not \"int\") to list"
     ]
    }
   ],
   "source": [
    "y+1"
   ]
  },
  {
   "cell_type": "code",
   "execution_count": 47,
   "id": "5f7e36ff-a600-4f60-8db6-63d3bad84cba",
   "metadata": {},
   "outputs": [
    {
     "data": {
      "text/plain": [
       "array([ 2.     ,  3.     ,  6.     ,  7.33333, 13.     ])"
      ]
     },
     "execution_count": 47,
     "metadata": {},
     "output_type": "execute_result"
    }
   ],
   "source": [
    "c+1"
   ]
  },
  {
   "cell_type": "code",
   "execution_count": null,
   "id": "b48e405a-b971-4138-971d-622dfae181b3",
   "metadata": {},
   "outputs": [],
   "source": []
  }
 ],
 "metadata": {
  "kernelspec": {
   "display_name": "Python 3 (ipykernel)",
   "language": "python",
   "name": "python3"
  },
  "language_info": {
   "codemirror_mode": {
    "name": "ipython",
    "version": 3
   },
   "file_extension": ".py",
   "mimetype": "text/x-python",
   "name": "python",
   "nbconvert_exporter": "python",
   "pygments_lexer": "ipython3",
   "version": "3.12.2"
  }
 },
 "nbformat": 4,
 "nbformat_minor": 5
}
