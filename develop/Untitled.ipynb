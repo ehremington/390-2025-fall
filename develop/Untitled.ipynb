{
 "cells": [
  {
   "cell_type": "markdown",
   "id": "e4c84f72-e5d0-459a-bf2e-2d7bb9e5b247",
   "metadata": {},
   "source": [
    "# day 02 notes\n",
    "\n"
   ]
  }
 ],
 "metadata": {
  "kernelspec": {
   "display_name": "Python 3 (ipykernel)",
   "language": "python",
   "name": "python3"
  },
  "language_info": {
   "codemirror_mode": {
    "name": "ipython",
    "version": 3
   },
   "file_extension": ".py",
   "mimetype": "text/x-python",
   "name": "python",
   "nbconvert_exporter": "python",
   "pygments_lexer": "ipython3",
   "version": "3.12.2"
  }
 },
 "nbformat": 4,
 "nbformat_minor": 5
}
