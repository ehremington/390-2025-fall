{
 "cells": [
  {
   "cell_type": "markdown",
   "id": "80c5f0bb-d9e4-4a7e-ae7e-778e3734317f",
   "metadata": {},
   "source": [
    "# Daily Log\n",
    "\n",
    "This is where I'll record hopefully before class what we will be doing. Please check here and read before class, so you'll have an idea of what we will cover that day. \n",
    "\n",
    "# day 0\n",
    "\n",
    "This is where I have to tell you what you should install. Technically, I hope that everyone could install the following software on their computer. These are listed in order of priority\n",
    "\n",
    "1. Anaconda distribution of Python\n",
    "2. Mathematica\n",
    "3. Dropbox (create account, but also download and install)\n",
    "4. Keepassxc (not essential but a good habit)\n",
    "5. git (extra special sauce)\n",
    "\n",
    "If you could begin an account with the following:\n",
    "\n",
    "1. Dropbox (from above)\n",
    "2. Overleaf (free, student edition)\n",
    "3. Github (extra if you get git working)\n",
    "\n",
    "Talk about AI. I want students to learn to use it as much as they learn to use the computer itself. But start off without it. If you do use it, but big, bright lines around what you got it to teach you.\n",
    "\n",
    "I talked through the python versions of 1. PowerShell/Terminal 2. Script 3. Jupyter Notebook/Lab. We did a very simple 'hello world' as well as a for loop just to show the differences in each, and went over some typo level gotcha's that come up. End on Jupyter Lab and showed them how that is a nice mid point between the interpreter and a script.\n",
    "\n",
    "For the interpreter, you should just use terminal on Mac/Linux, and use Powershell for Anaconda on Windows.\n",
    "\n",
    "For the script, I talk through using a shebang like #!/usr/bin/env python. We looked at mistakes and I showed them how to use the Traceback to kind of find where the problem is, although this is not perfect.\n",
    "\n",
    "For jupyter, we will but using lab not notebook but they are very similar and students should know how to use both."
   ]
  },
  {
   "cell_type": "code",
   "execution_count": null,
   "id": "bc6ea628-55ad-4849-a9a7-1273f10ffe8c",
   "metadata": {},
   "outputs": [],
   "source": []
  }
 ],
 "metadata": {
  "kernelspec": {
   "display_name": "Python 3 (ipykernel)",
   "language": "python",
   "name": "python3"
  },
  "language_info": {
   "codemirror_mode": {
    "name": "ipython",
    "version": 3
   },
   "file_extension": ".py",
   "mimetype": "text/x-python",
   "name": "python",
   "nbconvert_exporter": "python",
   "pygments_lexer": "ipython3",
   "version": "3.12.2"
  }
 },
 "nbformat": 4,
 "nbformat_minor": 5
}
